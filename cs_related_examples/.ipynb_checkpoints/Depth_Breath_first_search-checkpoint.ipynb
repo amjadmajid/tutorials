{
 "cells": [
  {
   "cell_type": "code",
   "execution_count": 33,
   "metadata": {
    "collapsed": true
   },
   "outputs": [],
   "source": [
    "### a binary tree\n",
    "\n",
    "class node(object):\n",
    "    def __init__(self, value): # a node\n",
    "        self.value = value\n",
    "        self.leftBranch = None\n",
    "        self.rightBranch = None\n",
    "        self.parent = None \n",
    "        \n",
    "    def setLeftBranch(self, node): # attributes of a node\n",
    "        self.leftBranch = node\n",
    "    def setRightBranch(self, node):\n",
    "        self.rightBranch = node\n",
    "    def setParent(self, parent):\n",
    "        self.parent = parent\n",
    "        \n",
    "    def getValue(self): # attributes of a node\n",
    "        return self.value\n",
    "    def getLeftBranch(self):\n",
    "        return self.leftBranch\n",
    "    def getRightBranch(self):\n",
    "        return self.rightBranch\n",
    "    def getParent(self):\n",
    "        return self.parent\n",
    "    def __str__(self):\n",
    "        return self.value\n",
    "\n",
    "# Create nodes    \n",
    "n5 = node(5) \n",
    "n2 = node(2)\n",
    "n1 = node(1)\n",
    "n4 = node(4)\n",
    "n8 = node(8)\n",
    "n6 = node(6)\n",
    "n7 = node(7)\n",
    "n3 = node(3)\n",
    "\n",
    "# connect the nodes to make a binary tree\n",
    "#         5\n",
    "#      /    \\\n",
    "#    2       8\n",
    "#   / \\     / \n",
    "#  1   4   6   \n",
    "#     /   /\n",
    "#    3   7\n",
    "\n",
    "n5.setLeftBranch(n2) # root\n",
    "n2.setParent(n5)\n",
    "n5.setRightBranch(n8)\n",
    "n8.setParent(n5)\n",
    "n2.setLeftBranch(n1)\n",
    "n1.setParent(n2)\n",
    "n2.setRightBranch(n4)\n",
    "n4.setParent(n2)\n",
    "n8.setLeftBranch(n6)\n",
    "n6.setParent(n8)\n",
    "n6.setRightBranch(n7)\n",
    "n7.setParent(n6)\n",
    "n4.setLeftBranch(n3)\n",
    "n3.setParent(n4)\n"
   ]
  },
  {
   "cell_type": "code",
   "execution_count": 34,
   "metadata": {
    "collapsed": false
   },
   "outputs": [
    {
     "name": "stdout",
     "output_type": "stream",
     "text": [
      "DFS\n",
      "at node 5\n",
      "at node 2\n",
      "at node 1\n",
      "at node 4\n",
      "at node 3\n"
     ]
    },
    {
     "data": {
      "text/plain": [
       "True"
      ]
     },
     "execution_count": 34,
     "metadata": {},
     "output_type": "execute_result"
    }
   ],
   "source": [
    "# Depth first search algorithm for a tree\n",
    "\n",
    "def DFSBinary(root, target):\n",
    "    \"\"\"Depth first search algorithm explort the left branch first.  \n",
    "    if it does not find the required node, then it goes up to the \n",
    "    first right branch and explores its left branch and so on\n",
    "    \n",
    "    The implementation of DFS algorithm leverage a stack data structure (First In Last Out). \n",
    "    The idea of the implementation is:\n",
    "    1- insert the root node in the stack \n",
    "    2- if it is the required node, then it is done and the algorithm returns True\n",
    "    3- if it is not the required node, then pop out the root from the stack and \n",
    "    insert its childern (right child first in this implemenation)\n",
    "    4- test the first node in the stack if it not the targeted node pop it out and insert its children \n",
    "    5- so on\n",
    "    \"\"\"\n",
    "    stack = [root] # or any starting node\n",
    "    while len(stack) > 0:\n",
    "        print ('at node ' + str(stack[0].getValue()))\n",
    "        if stack[0].getValue() == target.getValue(): # Search for a node\n",
    "            return True\n",
    "        else:\n",
    "            temp = stack.pop(0)\n",
    "            if temp.getRightBranch():\n",
    "                stack.insert(0, temp.getRightBranch()) # insert at the begining of the stack\n",
    "            if temp.getLeftBranch():\n",
    "                stack.insert(0, temp.getLeftBranch())  # insert at the begining of the stack\n",
    "    return False\n",
    "\n",
    "\n",
    "targetedNode = node(3)\n",
    "\n",
    "print ('DFS')\n",
    "DFSBinary(n5, targetedNode)"
   ]
  },
  {
   "cell_type": "code",
   "execution_count": 35,
   "metadata": {
    "collapsed": false
   },
   "outputs": [
    {
     "name": "stdout",
     "output_type": "stream",
     "text": [
      "BFS\n",
      "at node 5\n",
      "at node 2\n",
      "at node 8\n",
      "at node 1\n",
      "at node 4\n",
      "at node 6\n",
      "at node 3\n"
     ]
    },
    {
     "data": {
      "text/plain": [
       "True"
      ]
     },
     "execution_count": 35,
     "metadata": {},
     "output_type": "execute_result"
    }
   ],
   "source": [
    "# Bearth first search explore the tree by testing a node and then all its childern and the childern or the childern ...\n",
    "# BFS leverage a queue data structure (First In First Out)\n",
    "# it explore the tree in this fashion: >> root -> root childern (left to right in this implementation) \n",
    "# -> childern of the first (left) child of the root -> childern of the second child or the root and so on\n",
    "def BFSBinary(root, target):\n",
    "    queue = [root] # or any starting node\n",
    "    while len(queue) > 0:\n",
    "        print ('at node ' + str(queue[0].getValue()) )\n",
    "        if queue[0].getValue() == target.getValue():\n",
    "            return True\n",
    "        else:\n",
    "            temp = queue.pop(0)\n",
    "            if temp.getLeftBranch():\n",
    "                queue.append(temp.getLeftBranch()) # insert and the END of the queue\n",
    "            if temp.getRightBranch():\n",
    "                queue.append(temp.getRightBranch()) # insert and the END of the queue\n",
    "    return False\n",
    "\n",
    "targetedNode = node(3)\n",
    "\n",
    "print ('BFS')\n",
    "BFSBinary(n5, targetedNode)"
   ]
  }
 ],
 "metadata": {
  "anaconda-cloud": {},
  "kernelspec": {
   "display_name": "Python [Root]",
   "language": "python",
   "name": "Python [Root]"
  },
  "language_info": {
   "codemirror_mode": {
    "name": "ipython",
    "version": 3
   },
   "file_extension": ".py",
   "mimetype": "text/x-python",
   "name": "python",
   "nbconvert_exporter": "python",
   "pygments_lexer": "ipython3",
   "version": "3.5.2"
  }
 },
 "nbformat": 4,
 "nbformat_minor": 0
}
