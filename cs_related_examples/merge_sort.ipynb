{
 "cells": [
  {
   "cell_type": "code",
   "execution_count": null,
   "metadata": {
    "collapsed": true
   },
   "outputs": [],
   "source": [
    "def merge(left, right):\n",
    "    \"\"\"\n",
    "    Input: two lists\n",
    "    Output: one ascendingly sorted list\n",
    "    \"\"\"\n",
    "\tresult = []\n",
    "\ti = j = 0\n",
    "\twhile i < len(left) and j < len(right):\n",
    "\t\tif left[i] < right[j]:\n",
    "\t\t\tresult.append(left[i])\n",
    "\t\t\ti += 1\n",
    "\t\telse:\n",
    "\t\t\tresult.append(right[j])\n",
    "\t\t\tj += 1\n",
    "\t\t\t\n",
    "\tif i == len(left):  # no more values in left, append right to result\n",
    "\t\tresult += right[j:]\n",
    "\telif j == len(right): # no more values in right, append left to result\n",
    "\t\tresult += left[i:]\n",
    "\treturn result\n",
    "\n",
    "def merge_sort(x):\n",
    "\t\"\"\"\n",
    "    merge_sort algorithm uses a divide-and-conquer appraoch.\n",
    "    It divide the list untill these is only one item, and thus this item is sorted.\n",
    "    The it back tracks its dividing prcess and call merge function to merge the sublists \n",
    "    and sort them at the same time\n",
    "\t\"\"\"\n",
    "\tif len(x) < 2:\n",
    "\t\treturn x\n",
    "\tmid = int(len(x)/2)\n",
    "\tleft = merge_sort(x[:mid])\n",
    "\tright = merge_sort(x[mid:])\n",
    "\treturn merge(left, right)\n",
    "\n",
    "merge_sort([1,4,0,2]) "
   ]
  }
 ],
 "metadata": {
  "kernelspec": {
   "display_name": "Python [Root]",
   "language": "python",
   "name": "Python [Root]"
  },
  "language_info": {
   "codemirror_mode": {
    "name": "ipython",
    "version": 3
   },
   "file_extension": ".py",
   "mimetype": "text/x-python",
   "name": "python",
   "nbconvert_exporter": "python",
   "pygments_lexer": "ipython3",
   "version": "3.5.2"
  }
 },
 "nbformat": 4,
 "nbformat_minor": 0
}
