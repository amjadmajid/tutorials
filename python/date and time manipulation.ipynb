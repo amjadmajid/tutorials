{
 "cells": [
  {
   "cell_type": "code",
   "execution_count": 16,
   "metadata": {},
   "outputs": [
    {
     "name": "stdout",
     "output_type": "stream",
     "text": [
      "Today's date is  2017-10-03\n",
      "Date compotents:  3 10 2017\n",
      "Today's weekday number is: 1\n",
      "Today's full date is: 2017-10-03 12:09:32.436499\n",
      "the time now is: 12:09:32.436793\n",
      "Tue, 03 October 2017\n",
      "Tue Oct  3 12:09:32 2017\n",
      "12:09:32 PM\n",
      "0:00:00\n"
     ]
    }
   ],
   "source": [
    "from datetime import date\n",
    "from datetime import time\n",
    "from datetime import datetime\n",
    "\n",
    "\n",
    "def main():\n",
    "    \n",
    "    \"\"\"\n",
    "    ### Getting date and time\n",
    "    \"\"\"\n",
    "    \n",
    "    \"\"\"\n",
    "    The date class from the datetime package\n",
    "    \"\"\" \n",
    "    # get the date\n",
    "    today = date.today()\n",
    "    print('Today\\'s date is ', today)\n",
    "    \n",
    "    # get the date object protperties\n",
    "    print(\"Date compotents: \", today.day, today.month, today.year)\n",
    "    \n",
    "    #today's weekday (0=Monday, 6=Sunday)\n",
    "    print('Today\\'s weekday number is:', today.weekday())\n",
    "    \n",
    "    \n",
    "    \"\"\"\n",
    "    The datetime class from the datetime package\n",
    "    \"\"\"\n",
    "    #today's full date is:\n",
    "    today = datetime.now()\n",
    "    print(\"Today's full date is:\", today)\n",
    "    \n",
    "    \n",
    "    \"\"\"\n",
    "    The time class from the datetime package\n",
    "    \"\"\"\n",
    "    time = datetime.time(datetime.now())\n",
    "    print('the time now is:', time)\n",
    "    \n",
    "    \n",
    "    \"\"\"\n",
    "    ###  Date/Time formatting \n",
    "    \"\"\"\n",
    "    # %y/%Y abbr/full year\n",
    "    # %a/%A weekday\n",
    "    # %b/%B month\n",
    "    # %d day of month\n",
    "    \n",
    "    now = datetime.now()\n",
    "    print(now.strftime(\"%a, %d %B %Y\")) \n",
    "    \n",
    "    ## locale date and time\n",
    "    # %c locale's date and time\n",
    "    # %x locale date\n",
    "    # %X locale's time\n",
    "    print(now.strftime(\"%c\"))\n",
    "    \n",
    "    # time formatting\n",
    "    # %I/%H 12/24 Hours\n",
    "    # %M  minute\n",
    "    # %S  seconds\n",
    "    # %p locale's AM/PM\n",
    "    print(now.strftime(\"%I:%M:%S %p\"))\n",
    "    \n",
    "    ## Calculate time interval between two time strings\n",
    "    td = datetime.strptime('10:33:26', '%H:%M:%S') -\\\n",
    "    datetime.strptime('10:33:26', '%H:%M:%S')\n",
    "    \n",
    "    print(td)\n",
    "    \n",
    "if __name__ ==\"__main__\":\n",
    "    main();"
   ]
  },
  {
   "cell_type": "code",
   "execution_count": 22,
   "metadata": {},
   "outputs": [
    {
     "name": "stdout",
     "output_type": "stream",
     "text": [
      "0:00:00.001\n"
     ]
    }
   ],
   "source": [
    "td = datetime.strptime('13:51:06,804', '%H:%M:%S,%f') -\\\n",
    "    datetime.strptime('13:51:06,803', '%H:%M:%S,%f')\n",
    "print(str(td)[:-3])"
   ]
  },
  {
   "cell_type": "code",
   "execution_count": 26,
   "metadata": {},
   "outputs": [
    {
     "name": "stdout",
     "output_type": "stream",
     "text": [
      "<class 'datetime.datetime'>\n",
      "1482223122760.0\n"
     ]
    }
   ],
   "source": [
    "from datetime import datetime\n",
    "\n",
    "a = datetime.strptime('20.12.2016 09:38:42,76', '%d.%m.%Y %H:%M:%S,%f')\n",
    "\n",
    "print( type(a) )\n",
    "print(a.timestamp() * 1000)\n"
   ]
  },
  {
   "cell_type": "code",
   "execution_count": null,
   "metadata": {
    "collapsed": true
   },
   "outputs": [],
   "source": []
  }
 ],
 "metadata": {
  "kernelspec": {
   "display_name": "Python 3",
   "language": "python",
   "name": "python3"
  },
  "language_info": {
   "codemirror_mode": {
    "name": "ipython",
    "version": 3
   },
   "file_extension": ".py",
   "mimetype": "text/x-python",
   "name": "python",
   "nbconvert_exporter": "python",
   "pygments_lexer": "ipython3",
   "version": "3.6.1"
  }
 },
 "nbformat": 4,
 "nbformat_minor": 2
}
